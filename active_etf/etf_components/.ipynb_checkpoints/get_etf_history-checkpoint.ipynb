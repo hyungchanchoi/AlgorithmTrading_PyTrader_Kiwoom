{
 "cells": [
  {
   "cell_type": "markdown",
   "metadata": {},
   "source": [
    "# 데이터 저장"
   ]
  },
  {
   "cell_type": "code",
   "execution_count": 1,
   "metadata": {},
   "outputs": [],
   "source": [
    "import pandas as pd\n",
    "from urllib.request import urlopen\n",
    "import bs4\n",
    "from datetime import datetime\n",
    "today = datetime.today().strftime(\"%Y%m%d\")\n",
    "\n",
    "etf = ['kospi','kodex','tiger']\n",
    "url = ['https://wisefn.finance.daum.net/v1/ETF/index.aspx?cmp_cd=069500',\n",
    "       'https://wisefn.finance.daum.net/v1/ETF/index.aspx?cmp_cd=364690',\n",
    "       'https://wisefn.finance.daum.net/v1/ETF/index.aspx?cmp_cd=365040']\n",
    "with pd.ExcelWriter('C:/Users/chhch/algorithmtrading/etf_history/'+str(today)+'.xlsx') as writer:\n",
    "    \n",
    "    for j in range(len(etf)):\n",
    "        source = urlopen(url[j]).read()\n",
    "        source = bs4.BeautifulSoup(source, 'lxml')\n",
    "        tag = source.find_all('td',class_='c1 txt ellipsis')\n",
    "\n",
    "        name = []; num = []; per = []    \n",
    "\n",
    "        for i in range(len(tag)):\n",
    "            name.append(source.find_all('td', class_='c1 txt ellipsis')[i].text)\n",
    "            num.append(source.find_all('td', class_='c2 num')[i].text)\n",
    "            per.append(source.find_all('td', class_='c3 num')[i].text)\n",
    "\n",
    "        temp = etf[j]\n",
    "        temp = pd.DataFrame(index=range(0,len(name)), columns= ['name','num','per'])    \n",
    "        temp['name']=name\n",
    "        temp['num']=num\n",
    "        temp['per']=per\n",
    "        temp.to_excel(writer, sheet_name=etf[j])"
   ]
  },
  {
   "cell_type": "markdown",
   "metadata": {},
   "source": [
    "# 데이터 분석"
   ]
  },
  {
   "cell_type": "code",
   "execution_count": 16,
   "metadata": {},
   "outputs": [],
   "source": [
    "kospi = pd.read_excel('C:/Users/chhch/algorithmtrading/etf_history/'+str(today)+'.xlsx', sheet_name = 'kospi')\n",
    "kodex = pd.read_excel('C:/Users/chhch/algorithmtrading/etf_history/'+str(today)+'.xlsx', sheet_name = 'kodex')\n",
    "tiger = pd.read_excel('C:/Users/chhch/algorithmtrading/etf_history/'+str(today)+'.xlsx', sheet_name = 'tiger')"
   ]
  },
  {
   "cell_type": "code",
   "execution_count": 30,
   "metadata": {},
   "outputs": [],
   "source": [
    "notin_kodex = []; notin_tiger=[]\n",
    "for i in list(kospi['name']):\n",
    "    if i not in list(kodex['name']):\n",
    "        notin_kodex.append(i)\n",
    "    if i not in list(tiger['name']):\n",
    "        notin_tiger.append(i)\n",
    "    "
   ]
  },
  {
   "cell_type": "code",
   "execution_count": 31,
   "metadata": {},
   "outputs": [
    {
     "data": {
      "text/plain": [
       "['미래에셋대우',\n",
       " '한국금융지주',\n",
       " '대한항공',\n",
       " '삼성중공업',\n",
       " '한국타이어앤테크놀로',\n",
       " '포스코케미칼',\n",
       " '두산중공업',\n",
       " '한진칼',\n",
       " '한솔케미칼',\n",
       " 'OCI',\n",
       " '메리츠증권',\n",
       " '두산인프라코어',\n",
       " '현대미포조선',\n",
       " '팬오션',\n",
       " '동서',\n",
       " '롯데지주',\n",
       " '아시아나항공',\n",
       " '한국콜마',\n",
       " '현대위아',\n",
       " '일양약품',\n",
       " '영진약품',\n",
       " '롯데관광개발',\n",
       " '아이에스동서',\n",
       " 'SK디스커버리',\n",
       " '코스맥스',\n",
       " '오뚜기',\n",
       " 'GKL',\n",
       " 'LG상사',\n",
       " '휴켐스',\n",
       " 'CJ CGV',\n",
       " 'F&F',\n",
       " '대웅제약',\n",
       " '동아쏘시오홀딩스',\n",
       " '현대그린푸드',\n",
       " 'HDC',\n",
       " '보령제약',\n",
       " 'LG하우시스',\n",
       " '신세계인터내셔날',\n",
       " '한국테크놀로지그룹',\n",
       " 'LIG넥스원',\n",
       " '화승엔터프라이즈',\n",
       " 'KG동부제철',\n",
       " '애경산업',\n",
       " '동원F&B',\n",
       " 'BGF',\n",
       " '동원시스템즈',\n",
       " '삼양사',\n",
       " '한일현대시멘트',\n",
       " 'SPC삼립']"
      ]
     },
     "execution_count": 31,
     "metadata": {},
     "output_type": "execute_result"
    }
   ],
   "source": [
    "notin_tiger"
   ]
  },
  {
   "cell_type": "code",
   "execution_count": null,
   "metadata": {},
   "outputs": [],
   "source": []
  }
 ],
 "metadata": {
  "kernelspec": {
   "display_name": "Python 3",
   "language": "python",
   "name": "python3"
  },
  "language_info": {
   "codemirror_mode": {
    "name": "ipython",
    "version": 3
   },
   "file_extension": ".py",
   "mimetype": "text/x-python",
   "name": "python",
   "nbconvert_exporter": "python",
   "pygments_lexer": "ipython3",
   "version": "3.6.5"
  }
 },
 "nbformat": 4,
 "nbformat_minor": 2
}

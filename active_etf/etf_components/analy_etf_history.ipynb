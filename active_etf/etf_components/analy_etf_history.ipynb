{
 "cells": [
  {
   "cell_type": "code",
   "execution_count": 1,
   "metadata": {},
   "outputs": [],
   "source": [
    "import pandas as pd\n",
    "from datetime import datetime\n",
    "today = datetime.today().strftime(\"%Y%m%d\")\n",
    "\n",
    "kospi = pd.read_excel('C:/Users/chhch/algorithmtrading/PyTrader_KIWOOM/active_etf/etf_components/'+str(today)+'.xlsx', sheet_name = 'kospi')\n",
    "kodex = pd.read_excel('C:/Users/chhch/algorithmtrading/PyTrader_KIWOOM/active_etf/etf_components/'+str(today)+'.xlsx', sheet_name = 'kodex')\n",
    "tiger = pd.read_excel('C:/Users/chhch/algorithmtrading/PyTrader_KIWOOM/active_etf/etf_components/'+str(today)+'.xlsx', sheet_name = 'tiger')"
   ]
  },
  {
   "cell_type": "code",
   "execution_count": 2,
   "metadata": {},
   "outputs": [
    {
     "output_type": "execute_result",
     "data": {
      "text/plain": [
       "     Unnamed: 0    name    num    per  Unnamed: 0    name    num    per  \\\n",
       "0           0.0    삼성전자  8,008  33.32         0.0    삼성전자  3,889  25.75   \n",
       "1           1.0  SK하이닉스    953   5.80         1.0  SK하이닉스    475   4.60   \n",
       "2           2.0    LG화학     78   3.56         2.0     현대차    164   3.19   \n",
       "3           3.0    셀트리온    180   3.08         3.0   NAVER    123   2.77   \n",
       "4           4.0   NAVER    215   3.04         4.0    LG화학     33   2.40   \n",
       "..          ...     ...    ...    ...         ...     ...    ...    ...   \n",
       "216         NaN     NaN    NaN    NaN         NaN     NaN    NaN    NaN   \n",
       "217         NaN     NaN    NaN    NaN         NaN     NaN    NaN    NaN   \n",
       "218         NaN     NaN    NaN    NaN         NaN     NaN    NaN    NaN   \n",
       "219         NaN     NaN    NaN    NaN         NaN     NaN    NaN    NaN   \n",
       "220         NaN     NaN    NaN    NaN         NaN     NaN    NaN    NaN   \n",
       "\n",
       "     Unnamed: 0      name    num    per  \n",
       "0             0      삼성전자  4,041  26.78  \n",
       "1             1    SK하이닉스    434   4.20  \n",
       "2             2      LG화학     46   3.34  \n",
       "3             3       현대차    149   2.90  \n",
       "4             4     삼성SDI     53   2.82  \n",
       "..          ...       ...    ...    ...  \n",
       "216         216  하이트진로홀딩스     44   0.05  \n",
       "217         217       오리온      6   0.05  \n",
       "218         218      롯데푸드      2   0.05  \n",
       "219         219        농심      2   0.04  \n",
       "220         220      원화현금      -   0.76  \n",
       "\n",
       "[221 rows x 12 columns]"
      ],
      "text/html": "<div>\n<style scoped>\n    .dataframe tbody tr th:only-of-type {\n        vertical-align: middle;\n    }\n\n    .dataframe tbody tr th {\n        vertical-align: top;\n    }\n\n    .dataframe thead th {\n        text-align: right;\n    }\n</style>\n<table border=\"1\" class=\"dataframe\">\n  <thead>\n    <tr style=\"text-align: right;\">\n      <th></th>\n      <th>Unnamed: 0</th>\n      <th>name</th>\n      <th>num</th>\n      <th>per</th>\n      <th>Unnamed: 0</th>\n      <th>name</th>\n      <th>num</th>\n      <th>per</th>\n      <th>Unnamed: 0</th>\n      <th>name</th>\n      <th>num</th>\n      <th>per</th>\n    </tr>\n  </thead>\n  <tbody>\n    <tr>\n      <th>0</th>\n      <td>0.0</td>\n      <td>삼성전자</td>\n      <td>8,008</td>\n      <td>33.32</td>\n      <td>0.0</td>\n      <td>삼성전자</td>\n      <td>3,889</td>\n      <td>25.75</td>\n      <td>0</td>\n      <td>삼성전자</td>\n      <td>4,041</td>\n      <td>26.78</td>\n    </tr>\n    <tr>\n      <th>1</th>\n      <td>1.0</td>\n      <td>SK하이닉스</td>\n      <td>953</td>\n      <td>5.80</td>\n      <td>1.0</td>\n      <td>SK하이닉스</td>\n      <td>475</td>\n      <td>4.60</td>\n      <td>1</td>\n      <td>SK하이닉스</td>\n      <td>434</td>\n      <td>4.20</td>\n    </tr>\n    <tr>\n      <th>2</th>\n      <td>2.0</td>\n      <td>LG화학</td>\n      <td>78</td>\n      <td>3.56</td>\n      <td>2.0</td>\n      <td>현대차</td>\n      <td>164</td>\n      <td>3.19</td>\n      <td>2</td>\n      <td>LG화학</td>\n      <td>46</td>\n      <td>3.34</td>\n    </tr>\n    <tr>\n      <th>3</th>\n      <td>3.0</td>\n      <td>셀트리온</td>\n      <td>180</td>\n      <td>3.08</td>\n      <td>3.0</td>\n      <td>NAVER</td>\n      <td>123</td>\n      <td>2.77</td>\n      <td>3</td>\n      <td>현대차</td>\n      <td>149</td>\n      <td>2.90</td>\n    </tr>\n    <tr>\n      <th>4</th>\n      <td>4.0</td>\n      <td>NAVER</td>\n      <td>215</td>\n      <td>3.04</td>\n      <td>4.0</td>\n      <td>LG화학</td>\n      <td>33</td>\n      <td>2.40</td>\n      <td>4</td>\n      <td>삼성SDI</td>\n      <td>53</td>\n      <td>2.82</td>\n    </tr>\n    <tr>\n      <th>...</th>\n      <td>...</td>\n      <td>...</td>\n      <td>...</td>\n      <td>...</td>\n      <td>...</td>\n      <td>...</td>\n      <td>...</td>\n      <td>...</td>\n      <td>...</td>\n      <td>...</td>\n      <td>...</td>\n      <td>...</td>\n    </tr>\n    <tr>\n      <th>216</th>\n      <td>NaN</td>\n      <td>NaN</td>\n      <td>NaN</td>\n      <td>NaN</td>\n      <td>NaN</td>\n      <td>NaN</td>\n      <td>NaN</td>\n      <td>NaN</td>\n      <td>216</td>\n      <td>하이트진로홀딩스</td>\n      <td>44</td>\n      <td>0.05</td>\n    </tr>\n    <tr>\n      <th>217</th>\n      <td>NaN</td>\n      <td>NaN</td>\n      <td>NaN</td>\n      <td>NaN</td>\n      <td>NaN</td>\n      <td>NaN</td>\n      <td>NaN</td>\n      <td>NaN</td>\n      <td>217</td>\n      <td>오리온</td>\n      <td>6</td>\n      <td>0.05</td>\n    </tr>\n    <tr>\n      <th>218</th>\n      <td>NaN</td>\n      <td>NaN</td>\n      <td>NaN</td>\n      <td>NaN</td>\n      <td>NaN</td>\n      <td>NaN</td>\n      <td>NaN</td>\n      <td>NaN</td>\n      <td>218</td>\n      <td>롯데푸드</td>\n      <td>2</td>\n      <td>0.05</td>\n    </tr>\n    <tr>\n      <th>219</th>\n      <td>NaN</td>\n      <td>NaN</td>\n      <td>NaN</td>\n      <td>NaN</td>\n      <td>NaN</td>\n      <td>NaN</td>\n      <td>NaN</td>\n      <td>NaN</td>\n      <td>219</td>\n      <td>농심</td>\n      <td>2</td>\n      <td>0.04</td>\n    </tr>\n    <tr>\n      <th>220</th>\n      <td>NaN</td>\n      <td>NaN</td>\n      <td>NaN</td>\n      <td>NaN</td>\n      <td>NaN</td>\n      <td>NaN</td>\n      <td>NaN</td>\n      <td>NaN</td>\n      <td>220</td>\n      <td>원화현금</td>\n      <td>-</td>\n      <td>0.76</td>\n    </tr>\n  </tbody>\n</table>\n<p>221 rows × 12 columns</p>\n</div>"
     },
     "metadata": {},
     "execution_count": 2
    }
   ],
   "source": [
    "df = pd.DataFrame(columns =[['kospi','kospi','kospi','kodex','kodex','kodex','tiger','tiger','tiger'],\n",
    "              ['name','num','per','name','num','per','name','num','per']] )\n",
    "df = pd.concat([kospi,kodex,tiger],axis=1)\n",
    "df"
   ]
  },
  {
   "cell_type": "code",
   "execution_count": 6,
   "metadata": {},
   "outputs": [],
   "source": [
    "notin_kodex = []; notin_tiger=[]; not_both = []\n",
    "onlyin_kodex = [];onlyin_tiger=[]; only_both = []\n",
    "\n",
    "for i in list(kospi['name']):          # 코스피200엔 있지만,\n",
    "    a=None ;b = None\n",
    "    if i not in list(kodex['name']):   # kodex엔 없는것\n",
    "        notin_kodex.append(i)\n",
    "        a = True\n",
    "    if i not in list(tiger['name']):   #tiger엔 없는것\n",
    "        notin_tiger.append(i)\n",
    "        b = True\n",
    "    if a ==True and b == True:\n",
    "        not_both.append(i)\n",
    "        \n",
    "notin = {'kodex':notin_kodex, 'tiger':notin_tiger,'both':not_both}\n",
    "notin = pd.DataFrame.from_dict(notin, orient='index').transpose()"
   ]
  },
  {
   "cell_type": "code",
   "execution_count": 7,
   "metadata": {},
   "outputs": [
    {
     "output_type": "execute_result",
     "data": {
      "text/plain": [
       "       kodex       tiger     both\n",
       "0        빅히트  한국타이어앤테크놀로     LG상사\n",
       "1       LG상사         OCI     세방전지\n",
       "2       세방전지        키움증권      GKL\n",
       "3       동국제강      한미사이언스   LG하우시스\n",
       "4        GKL       한솔케미칼    남선알미늄\n",
       "5         풍산        부광약품     한전기술\n",
       "6     LG하우시스       두산퓨얼셀   동원시스템즈\n",
       "7      남선알미늄        현대위아  한일현대시멘트\n",
       "8        HDC       씨에스윈드    SPC삼립\n",
       "9      넥센타이어         팬오션    쿠쿠홀딩스\n",
       "10  화승엔터프라이즈        대우건설     None\n",
       "11      한세실업         한진칼     None\n",
       "12      한전기술          동서     None\n",
       "13    롯데하이마트          대웅     None\n",
       "14      애경산업        LG상사     None\n",
       "15       빙그레        한국콜마     None\n",
       "16     삼양홀딩스      아이에스동서     None\n",
       "17     동원F&B        일양약품     None\n",
       "18       락앤락        세방전지     None\n",
       "19    동원시스템즈         지누스     None\n",
       "20       삼양사        대웅제약     None\n",
       "21   한일현대시멘트      SK네트웍스     None\n",
       "22     SPC삼립        영진약품     None\n",
       "23     쿠쿠홀딩스       한화시스템     None\n",
       "24      None     SK디스커버리     None\n",
       "25      None         오뚜기     None\n",
       "26      None      현대그린푸드     None\n",
       "27      None          후성     None\n",
       "28      None      롯데관광개발     None\n",
       "29      None         GKL     None\n",
       "30      None         휴켐스     None\n",
       "31      None      CJ CGV     None\n",
       "32      None       현대홈쇼핑     None\n",
       "33      None      LG하우시스     None\n",
       "34      None       남선알미늄     None\n",
       "35      None      KG동부제철     None\n",
       "36      None        삼양식품     None\n",
       "37      None        한전기술     None\n",
       "38      None       쿠쿠홈시스     None\n",
       "39      None      동원시스템즈     None\n",
       "40      None     한일현대시멘트     None\n",
       "41      None       SPC삼립     None\n",
       "42      None       쿠쿠홀딩스     None"
      ],
      "text/html": "<div>\n<style scoped>\n    .dataframe tbody tr th:only-of-type {\n        vertical-align: middle;\n    }\n\n    .dataframe tbody tr th {\n        vertical-align: top;\n    }\n\n    .dataframe thead th {\n        text-align: right;\n    }\n</style>\n<table border=\"1\" class=\"dataframe\">\n  <thead>\n    <tr style=\"text-align: right;\">\n      <th></th>\n      <th>kodex</th>\n      <th>tiger</th>\n      <th>both</th>\n    </tr>\n  </thead>\n  <tbody>\n    <tr>\n      <th>0</th>\n      <td>빅히트</td>\n      <td>한국타이어앤테크놀로</td>\n      <td>LG상사</td>\n    </tr>\n    <tr>\n      <th>1</th>\n      <td>LG상사</td>\n      <td>OCI</td>\n      <td>세방전지</td>\n    </tr>\n    <tr>\n      <th>2</th>\n      <td>세방전지</td>\n      <td>키움증권</td>\n      <td>GKL</td>\n    </tr>\n    <tr>\n      <th>3</th>\n      <td>동국제강</td>\n      <td>한미사이언스</td>\n      <td>LG하우시스</td>\n    </tr>\n    <tr>\n      <th>4</th>\n      <td>GKL</td>\n      <td>한솔케미칼</td>\n      <td>남선알미늄</td>\n    </tr>\n    <tr>\n      <th>5</th>\n      <td>풍산</td>\n      <td>부광약품</td>\n      <td>한전기술</td>\n    </tr>\n    <tr>\n      <th>6</th>\n      <td>LG하우시스</td>\n      <td>두산퓨얼셀</td>\n      <td>동원시스템즈</td>\n    </tr>\n    <tr>\n      <th>7</th>\n      <td>남선알미늄</td>\n      <td>현대위아</td>\n      <td>한일현대시멘트</td>\n    </tr>\n    <tr>\n      <th>8</th>\n      <td>HDC</td>\n      <td>씨에스윈드</td>\n      <td>SPC삼립</td>\n    </tr>\n    <tr>\n      <th>9</th>\n      <td>넥센타이어</td>\n      <td>팬오션</td>\n      <td>쿠쿠홀딩스</td>\n    </tr>\n    <tr>\n      <th>10</th>\n      <td>화승엔터프라이즈</td>\n      <td>대우건설</td>\n      <td>None</td>\n    </tr>\n    <tr>\n      <th>11</th>\n      <td>한세실업</td>\n      <td>한진칼</td>\n      <td>None</td>\n    </tr>\n    <tr>\n      <th>12</th>\n      <td>한전기술</td>\n      <td>동서</td>\n      <td>None</td>\n    </tr>\n    <tr>\n      <th>13</th>\n      <td>롯데하이마트</td>\n      <td>대웅</td>\n      <td>None</td>\n    </tr>\n    <tr>\n      <th>14</th>\n      <td>애경산업</td>\n      <td>LG상사</td>\n      <td>None</td>\n    </tr>\n    <tr>\n      <th>15</th>\n      <td>빙그레</td>\n      <td>한국콜마</td>\n      <td>None</td>\n    </tr>\n    <tr>\n      <th>16</th>\n      <td>삼양홀딩스</td>\n      <td>아이에스동서</td>\n      <td>None</td>\n    </tr>\n    <tr>\n      <th>17</th>\n      <td>동원F&amp;B</td>\n      <td>일양약품</td>\n      <td>None</td>\n    </tr>\n    <tr>\n      <th>18</th>\n      <td>락앤락</td>\n      <td>세방전지</td>\n      <td>None</td>\n    </tr>\n    <tr>\n      <th>19</th>\n      <td>동원시스템즈</td>\n      <td>지누스</td>\n      <td>None</td>\n    </tr>\n    <tr>\n      <th>20</th>\n      <td>삼양사</td>\n      <td>대웅제약</td>\n      <td>None</td>\n    </tr>\n    <tr>\n      <th>21</th>\n      <td>한일현대시멘트</td>\n      <td>SK네트웍스</td>\n      <td>None</td>\n    </tr>\n    <tr>\n      <th>22</th>\n      <td>SPC삼립</td>\n      <td>영진약품</td>\n      <td>None</td>\n    </tr>\n    <tr>\n      <th>23</th>\n      <td>쿠쿠홀딩스</td>\n      <td>한화시스템</td>\n      <td>None</td>\n    </tr>\n    <tr>\n      <th>24</th>\n      <td>None</td>\n      <td>SK디스커버리</td>\n      <td>None</td>\n    </tr>\n    <tr>\n      <th>25</th>\n      <td>None</td>\n      <td>오뚜기</td>\n      <td>None</td>\n    </tr>\n    <tr>\n      <th>26</th>\n      <td>None</td>\n      <td>현대그린푸드</td>\n      <td>None</td>\n    </tr>\n    <tr>\n      <th>27</th>\n      <td>None</td>\n      <td>후성</td>\n      <td>None</td>\n    </tr>\n    <tr>\n      <th>28</th>\n      <td>None</td>\n      <td>롯데관광개발</td>\n      <td>None</td>\n    </tr>\n    <tr>\n      <th>29</th>\n      <td>None</td>\n      <td>GKL</td>\n      <td>None</td>\n    </tr>\n    <tr>\n      <th>30</th>\n      <td>None</td>\n      <td>휴켐스</td>\n      <td>None</td>\n    </tr>\n    <tr>\n      <th>31</th>\n      <td>None</td>\n      <td>CJ CGV</td>\n      <td>None</td>\n    </tr>\n    <tr>\n      <th>32</th>\n      <td>None</td>\n      <td>현대홈쇼핑</td>\n      <td>None</td>\n    </tr>\n    <tr>\n      <th>33</th>\n      <td>None</td>\n      <td>LG하우시스</td>\n      <td>None</td>\n    </tr>\n    <tr>\n      <th>34</th>\n      <td>None</td>\n      <td>남선알미늄</td>\n      <td>None</td>\n    </tr>\n    <tr>\n      <th>35</th>\n      <td>None</td>\n      <td>KG동부제철</td>\n      <td>None</td>\n    </tr>\n    <tr>\n      <th>36</th>\n      <td>None</td>\n      <td>삼양식품</td>\n      <td>None</td>\n    </tr>\n    <tr>\n      <th>37</th>\n      <td>None</td>\n      <td>한전기술</td>\n      <td>None</td>\n    </tr>\n    <tr>\n      <th>38</th>\n      <td>None</td>\n      <td>쿠쿠홈시스</td>\n      <td>None</td>\n    </tr>\n    <tr>\n      <th>39</th>\n      <td>None</td>\n      <td>동원시스템즈</td>\n      <td>None</td>\n    </tr>\n    <tr>\n      <th>40</th>\n      <td>None</td>\n      <td>한일현대시멘트</td>\n      <td>None</td>\n    </tr>\n    <tr>\n      <th>41</th>\n      <td>None</td>\n      <td>SPC삼립</td>\n      <td>None</td>\n    </tr>\n    <tr>\n      <th>42</th>\n      <td>None</td>\n      <td>쿠쿠홀딩스</td>\n      <td>None</td>\n    </tr>\n  </tbody>\n</table>\n</div>"
     },
     "metadata": {},
     "execution_count": 7
    }
   ],
   "source": [
    "notin"
   ]
  },
  {
   "cell_type": "code",
   "execution_count": null,
   "metadata": {},
   "outputs": [],
   "source": []
  }
 ],
 "metadata": {
  "kernelspec": {
   "display_name": "Python 3",
   "language": "python",
   "name": "python3"
  },
  "language_info": {
   "codemirror_mode": {
    "name": "ipython",
    "version": 3
   },
   "file_extension": ".py",
   "mimetype": "text/x-python",
   "name": "python",
   "nbconvert_exporter": "python",
   "pygments_lexer": "ipython3",
   "version": "3.7.6-final"
  }
 },
 "nbformat": 4,
 "nbformat_minor": 2
}
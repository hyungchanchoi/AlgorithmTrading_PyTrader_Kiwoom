{
 "cells": [
  {
   "cell_type": "code",
   "execution_count": 43,
   "metadata": {},
   "outputs": [],
   "source": [
    "import pandas as pd\n",
    "from datetime import datetime\n",
    "today = datetime.today().strftime(\"%Y%m%d\")\n",
    "\n",
    "kospi = pd.read_excel('C:/Users/chhch/algorithmtrading/PyTrader_KIWOOM/active_etf/etf_components/'+str(today)+'.xlsx', sheet_name = 'kospi')\n",
    "kodex = pd.read_excel('C:/Users/chhch/algorithmtrading/PyTrader_KIWOOM/active_etf/etf_components/'+str(today)+'.xlsx', sheet_name = 'kodex')\n",
    "tiger = pd.read_excel('C:/Users/chhch/algorithmtrading/PyTrader_KIWOOM/active_etf/etf_components/'+str(today)+'.xlsx', sheet_name = 'tiger')\n",
    "\n",
    "notin_kodex = [] ; notin_tiger=[] ; not_both = []\n",
    "onlyin_kodex = []; onlyin_tiger=[]; in_both = []"
   ]
  },
  {
   "source": [
    "# Exist in kospi200, but not in kodex,tiger"
   ],
   "cell_type": "markdown",
   "metadata": {}
  },
  {
   "cell_type": "code",
   "execution_count": 26,
   "metadata": {},
   "outputs": [
    {
     "output_type": "execute_result",
     "data": {
      "text/plain": [
       "       kodex       tiger     both\n",
       "0        빅히트  한국타이어앤테크놀로     LG상사\n",
       "1       LG상사         OCI     세방전지\n",
       "2       세방전지      한미사이언스      GKL\n",
       "3       동국제강        키움증권   LG하우시스\n",
       "4        GKL       한솔케미칼    남선알미늄\n",
       "5         풍산        부광약품     한전기술\n",
       "6     LG하우시스       씨에스윈드   동원시스템즈\n",
       "7      남선알미늄         팬오션  한일현대시멘트\n",
       "8        HDC        대우건설    SPC삼립\n",
       "9      넥센타이어       두산퓨얼셀    쿠쿠홀딩스\n",
       "10       락앤락          대웅     None\n",
       "11  화승엔터프라이즈         한진칼     None\n",
       "12      한세실업        현대위아     None\n",
       "13      한전기술          동서     None\n",
       "14    롯데하이마트        한국콜마     None\n",
       "15      애경산업         지누스     None\n",
       "16       빙그레        대웅제약     None\n",
       "17     삼양홀딩스        LG상사     None\n",
       "18     동원F&B      아이에스동서     None\n",
       "19    동원시스템즈        일양약품     None\n",
       "20       삼양사        세방전지     None\n",
       "21   한일현대시멘트      SK네트웍스     None\n",
       "22     SPC삼립        영진약품     None\n",
       "23     쿠쿠홀딩스          후성     None\n",
       "24      None      롯데관광개발     None\n",
       "25      None       한화시스템     None\n",
       "26      None     SK디스커버리     None\n",
       "27      None       현대홈쇼핑     None\n",
       "28      None         오뚜기     None\n",
       "29      None      현대그린푸드     None\n",
       "30      None         GKL     None\n",
       "31      None         휴켐스     None\n",
       "32      None      CJ CGV     None\n",
       "33      None      LG하우시스     None\n",
       "34      None       남선알미늄     None\n",
       "35      None      KG동부제철     None\n",
       "36      None        삼양식품     None\n",
       "37      None        한전기술     None\n",
       "38      None       쿠쿠홈시스     None\n",
       "39      None      동원시스템즈     None\n",
       "40      None     한일현대시멘트     None\n",
       "41      None       SPC삼립     None\n",
       "42      None       쿠쿠홀딩스     None"
      ],
      "text/html": "<div>\n<style scoped>\n    .dataframe tbody tr th:only-of-type {\n        vertical-align: middle;\n    }\n\n    .dataframe tbody tr th {\n        vertical-align: top;\n    }\n\n    .dataframe thead th {\n        text-align: right;\n    }\n</style>\n<table border=\"1\" class=\"dataframe\">\n  <thead>\n    <tr style=\"text-align: right;\">\n      <th></th>\n      <th>kodex</th>\n      <th>tiger</th>\n      <th>both</th>\n    </tr>\n  </thead>\n  <tbody>\n    <tr>\n      <th>0</th>\n      <td>빅히트</td>\n      <td>한국타이어앤테크놀로</td>\n      <td>LG상사</td>\n    </tr>\n    <tr>\n      <th>1</th>\n      <td>LG상사</td>\n      <td>OCI</td>\n      <td>세방전지</td>\n    </tr>\n    <tr>\n      <th>2</th>\n      <td>세방전지</td>\n      <td>한미사이언스</td>\n      <td>GKL</td>\n    </tr>\n    <tr>\n      <th>3</th>\n      <td>동국제강</td>\n      <td>키움증권</td>\n      <td>LG하우시스</td>\n    </tr>\n    <tr>\n      <th>4</th>\n      <td>GKL</td>\n      <td>한솔케미칼</td>\n      <td>남선알미늄</td>\n    </tr>\n    <tr>\n      <th>5</th>\n      <td>풍산</td>\n      <td>부광약품</td>\n      <td>한전기술</td>\n    </tr>\n    <tr>\n      <th>6</th>\n      <td>LG하우시스</td>\n      <td>씨에스윈드</td>\n      <td>동원시스템즈</td>\n    </tr>\n    <tr>\n      <th>7</th>\n      <td>남선알미늄</td>\n      <td>팬오션</td>\n      <td>한일현대시멘트</td>\n    </tr>\n    <tr>\n      <th>8</th>\n      <td>HDC</td>\n      <td>대우건설</td>\n      <td>SPC삼립</td>\n    </tr>\n    <tr>\n      <th>9</th>\n      <td>넥센타이어</td>\n      <td>두산퓨얼셀</td>\n      <td>쿠쿠홀딩스</td>\n    </tr>\n    <tr>\n      <th>10</th>\n      <td>락앤락</td>\n      <td>대웅</td>\n      <td>None</td>\n    </tr>\n    <tr>\n      <th>11</th>\n      <td>화승엔터프라이즈</td>\n      <td>한진칼</td>\n      <td>None</td>\n    </tr>\n    <tr>\n      <th>12</th>\n      <td>한세실업</td>\n      <td>현대위아</td>\n      <td>None</td>\n    </tr>\n    <tr>\n      <th>13</th>\n      <td>한전기술</td>\n      <td>동서</td>\n      <td>None</td>\n    </tr>\n    <tr>\n      <th>14</th>\n      <td>롯데하이마트</td>\n      <td>한국콜마</td>\n      <td>None</td>\n    </tr>\n    <tr>\n      <th>15</th>\n      <td>애경산업</td>\n      <td>지누스</td>\n      <td>None</td>\n    </tr>\n    <tr>\n      <th>16</th>\n      <td>빙그레</td>\n      <td>대웅제약</td>\n      <td>None</td>\n    </tr>\n    <tr>\n      <th>17</th>\n      <td>삼양홀딩스</td>\n      <td>LG상사</td>\n      <td>None</td>\n    </tr>\n    <tr>\n      <th>18</th>\n      <td>동원F&amp;B</td>\n      <td>아이에스동서</td>\n      <td>None</td>\n    </tr>\n    <tr>\n      <th>19</th>\n      <td>동원시스템즈</td>\n      <td>일양약품</td>\n      <td>None</td>\n    </tr>\n    <tr>\n      <th>20</th>\n      <td>삼양사</td>\n      <td>세방전지</td>\n      <td>None</td>\n    </tr>\n    <tr>\n      <th>21</th>\n      <td>한일현대시멘트</td>\n      <td>SK네트웍스</td>\n      <td>None</td>\n    </tr>\n    <tr>\n      <th>22</th>\n      <td>SPC삼립</td>\n      <td>영진약품</td>\n      <td>None</td>\n    </tr>\n    <tr>\n      <th>23</th>\n      <td>쿠쿠홀딩스</td>\n      <td>후성</td>\n      <td>None</td>\n    </tr>\n    <tr>\n      <th>24</th>\n      <td>None</td>\n      <td>롯데관광개발</td>\n      <td>None</td>\n    </tr>\n    <tr>\n      <th>25</th>\n      <td>None</td>\n      <td>한화시스템</td>\n      <td>None</td>\n    </tr>\n    <tr>\n      <th>26</th>\n      <td>None</td>\n      <td>SK디스커버리</td>\n      <td>None</td>\n    </tr>\n    <tr>\n      <th>27</th>\n      <td>None</td>\n      <td>현대홈쇼핑</td>\n      <td>None</td>\n    </tr>\n    <tr>\n      <th>28</th>\n      <td>None</td>\n      <td>오뚜기</td>\n      <td>None</td>\n    </tr>\n    <tr>\n      <th>29</th>\n      <td>None</td>\n      <td>현대그린푸드</td>\n      <td>None</td>\n    </tr>\n    <tr>\n      <th>30</th>\n      <td>None</td>\n      <td>GKL</td>\n      <td>None</td>\n    </tr>\n    <tr>\n      <th>31</th>\n      <td>None</td>\n      <td>휴켐스</td>\n      <td>None</td>\n    </tr>\n    <tr>\n      <th>32</th>\n      <td>None</td>\n      <td>CJ CGV</td>\n      <td>None</td>\n    </tr>\n    <tr>\n      <th>33</th>\n      <td>None</td>\n      <td>LG하우시스</td>\n      <td>None</td>\n    </tr>\n    <tr>\n      <th>34</th>\n      <td>None</td>\n      <td>남선알미늄</td>\n      <td>None</td>\n    </tr>\n    <tr>\n      <th>35</th>\n      <td>None</td>\n      <td>KG동부제철</td>\n      <td>None</td>\n    </tr>\n    <tr>\n      <th>36</th>\n      <td>None</td>\n      <td>삼양식품</td>\n      <td>None</td>\n    </tr>\n    <tr>\n      <th>37</th>\n      <td>None</td>\n      <td>한전기술</td>\n      <td>None</td>\n    </tr>\n    <tr>\n      <th>38</th>\n      <td>None</td>\n      <td>쿠쿠홈시스</td>\n      <td>None</td>\n    </tr>\n    <tr>\n      <th>39</th>\n      <td>None</td>\n      <td>동원시스템즈</td>\n      <td>None</td>\n    </tr>\n    <tr>\n      <th>40</th>\n      <td>None</td>\n      <td>한일현대시멘트</td>\n      <td>None</td>\n    </tr>\n    <tr>\n      <th>41</th>\n      <td>None</td>\n      <td>SPC삼립</td>\n      <td>None</td>\n    </tr>\n    <tr>\n      <th>42</th>\n      <td>None</td>\n      <td>쿠쿠홀딩스</td>\n      <td>None</td>\n    </tr>\n  </tbody>\n</table>\n</div>"
     },
     "metadata": {},
     "execution_count": 26
    }
   ],
   "source": [
    "for i in list(kospi['name']):          # 코스피200엔 있지만,\n",
    "    a=None ;b = None\n",
    "    if i not in list(kodex['name']):   # kodex엔 없는것\n",
    "        notin_kodex.append(i)\n",
    "        a = True\n",
    "    if i not in list(tiger['name']):   # tiger엔 없는것\n",
    "        notin_tiger.append(i)\n",
    "        b = True\n",
    "    if a ==True and b == True:\n",
    "        not_both.append(i)\n",
    "        \n",
    "notin = {'kodex':notin_kodex, 'tiger':notin_tiger,'both':not_both}\n",
    "notin = pd.DataFrame.from_dict(notin, orient='index').transpose()\n",
    "notin"
   ]
  },
  {
   "source": [
    "# Only exist in kodex,tiger"
   ],
   "cell_type": "markdown",
   "metadata": {}
  },
  {
   "cell_type": "code",
   "execution_count": 40,
   "metadata": {},
   "outputs": [
    {
     "output_type": "execute_result",
     "data": {
      "text/plain": [
       "      kodex        tiger\n",
       "0   하이비젼시스템  한국타이어앤테크놀로지\n",
       "1    한글과컴퓨터      메리츠금융지주\n",
       "2   글로벌텍스프리          파미셀\n",
       "3        DB         태광산업\n",
       "4      클래시스         다우기술\n",
       "..      ...          ...\n",
       "61     None         샘표식품\n",
       "62     None       한화손해보험\n",
       "63     None        인바이오젠\n",
       "64     None     하이트진로홀딩스\n",
       "65     None         롯데푸드\n",
       "\n",
       "[66 rows x 2 columns]"
      ],
      "text/html": "<div>\n<style scoped>\n    .dataframe tbody tr th:only-of-type {\n        vertical-align: middle;\n    }\n\n    .dataframe tbody tr th {\n        vertical-align: top;\n    }\n\n    .dataframe thead th {\n        text-align: right;\n    }\n</style>\n<table border=\"1\" class=\"dataframe\">\n  <thead>\n    <tr style=\"text-align: right;\">\n      <th></th>\n      <th>kodex</th>\n      <th>tiger</th>\n    </tr>\n  </thead>\n  <tbody>\n    <tr>\n      <th>0</th>\n      <td>하이비젼시스템</td>\n      <td>한국타이어앤테크놀로지</td>\n    </tr>\n    <tr>\n      <th>1</th>\n      <td>한글과컴퓨터</td>\n      <td>메리츠금융지주</td>\n    </tr>\n    <tr>\n      <th>2</th>\n      <td>글로벌텍스프리</td>\n      <td>파미셀</td>\n    </tr>\n    <tr>\n      <th>3</th>\n      <td>DB</td>\n      <td>태광산업</td>\n    </tr>\n    <tr>\n      <th>4</th>\n      <td>클래시스</td>\n      <td>다우기술</td>\n    </tr>\n    <tr>\n      <th>...</th>\n      <td>...</td>\n      <td>...</td>\n    </tr>\n    <tr>\n      <th>61</th>\n      <td>None</td>\n      <td>샘표식품</td>\n    </tr>\n    <tr>\n      <th>62</th>\n      <td>None</td>\n      <td>한화손해보험</td>\n    </tr>\n    <tr>\n      <th>63</th>\n      <td>None</td>\n      <td>인바이오젠</td>\n    </tr>\n    <tr>\n      <th>64</th>\n      <td>None</td>\n      <td>하이트진로홀딩스</td>\n    </tr>\n    <tr>\n      <th>65</th>\n      <td>None</td>\n      <td>롯데푸드</td>\n    </tr>\n  </tbody>\n</table>\n<p>66 rows × 2 columns</p>\n</div>"
     },
     "metadata": {},
     "execution_count": 40
    }
   ],
   "source": [
    "for i in list(kodex['name']):          # kodex엔 있지만,\n",
    "    if i not in list(kospi['name']):   # kospi엔 없는것\n",
    "        onlyin_kodex.append(i)\n",
    "\n",
    "for i in list(tiger['name']):          # tiger엔 있지만,\n",
    "    if i not in list(kospi['name']):   # kospi엔 없는것\n",
    "        onlyin_tiger.append(i)\n",
    "\n",
    "# for i in list(onlyin_tiger['name']):          # 모두 있는것\n",
    "#     if i in list(onlyin_kodex['name']):     \n",
    "#         in_both.append(i)\n",
    "        \n",
    "onlyin = {'kodex':onlyin_kodex, 'tiger':onlyin_tiger}\n",
    "onlyin = pd.DataFrame.from_dict(onlyin, orient='index').transpose()\n",
    "onlyin"
   ]
  },
  {
   "source": [
    "# Both exist buy different nums"
   ],
   "cell_type": "markdown",
   "metadata": {}
  },
  {
   "cell_type": "code",
   "execution_count": null,
   "metadata": {},
   "outputs": [],
   "source": [
    "for i in range(list(kospi['name']):          # 코스피200엔 있지만,\n",
    "    a=None ;b = None\n",
    "    if i not in list(kodex['name']):   # kodex엔 없는것\n",
    "        notin_kodex.append(i)\n",
    "        a = True\n",
    "    if i not in list(tiger['name']):   # tiger엔 없는것\n",
    "        notin_tiger.append(i)\n",
    "        b = True\n",
    "    if a ==True and b == True:\n",
    "        not_both.append(i)"
   ]
  }
 ],
 "metadata": {
  "kernelspec": {
   "display_name": "Python 3",
   "language": "python",
   "name": "python3"
  },
  "language_info": {
   "codemirror_mode": {
    "name": "ipython",
    "version": 3
   },
   "file_extension": ".py",
   "mimetype": "text/x-python",
   "name": "python",
   "nbconvert_exporter": "python",
   "pygments_lexer": "ipython3",
   "version": "3.7.6-final"
  }
 },
 "nbformat": 4,
 "nbformat_minor": 2
}
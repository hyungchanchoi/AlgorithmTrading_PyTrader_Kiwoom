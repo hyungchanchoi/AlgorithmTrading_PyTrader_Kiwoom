{
 "cells": [
  {
   "cell_type": "code",
   "execution_count": 1,
   "metadata": {},
   "outputs": [
    {
     "name": "stdout",
     "output_type": "stream",
     "text": [
      "------------------------------------------------------------------------------\n"
     ]
    }
   ],
   "source": [
    "import sys\n",
    "from PyQt5.QtWidgets import *\n",
    "from PyQt5.QtCore import *\n",
    "from PyQt5 import uic\n",
    "from _Kiwoom import *\n",
    "from _algos import *\n",
    "import time\n",
    "from datetime import datetime,timedelta\n",
    "\n",
    "now = datetime.now()\n",
    "form_class = uic.loadUiType(\"_pytrader.ui\")[0]"
   ]
  },
  {
   "cell_type": "markdown",
   "metadata": {},
   "source": [
    "# 트레이딩"
   ]
  },
  {
   "cell_type": "code",
   "execution_count": 2,
   "metadata": {},
   "outputs": [
    {
     "name": "stdout",
     "output_type": "stream",
     "text": [
      "connected\n",
      "-------------------------------거래시작------------------------------------\n",
      "1 069500\n",
      "1 364690\n",
      "1 365040\n",
      "{}\n",
      "{}\n",
      "1 069500\n",
      "1 364690\n",
      "1 365040\n",
      "{}\n",
      "{}\n",
      "1 069500\n",
      "1 364690\n",
      "1 365040\n",
      "{}\n",
      "{}\n",
      "1 069500\n",
      "1 364690\n",
      "1 365040\n",
      "{}\n",
      "{}\n",
      "1 069500\n",
      "1 364690\n",
      "1 365040\n",
      "{}\n",
      "{}\n",
      "1 069500\n",
      "1 364690\n",
      "1 365040\n",
      "{}\n",
      "{}\n",
      "1 069500\n",
      "1 364690\n",
      "1 365040\n",
      "{}\n",
      "{}\n"
     ]
    },
    {
     "ename": "KeyboardInterrupt",
     "evalue": "",
     "output_type": "error",
     "traceback": [
      "\u001b[1;31m---------------------------------------------------------------------------\u001b[0m",
      "\u001b[1;31mKeyboardInterrupt\u001b[0m                         Traceback (most recent call last)",
      "\u001b[1;32m<ipython-input-2-18715c8aff5e>\u001b[0m in \u001b[0;36m<module>\u001b[1;34m()\u001b[0m\n\u001b[0;32m      4\u001b[0m \u001b[1;32mwhile\u001b[0m \u001b[0mnow\u001b[0m\u001b[1;33m.\u001b[0m\u001b[0mstrftime\u001b[0m\u001b[1;33m(\u001b[0m\u001b[1;34m'%H%M%S'\u001b[0m\u001b[1;33m)\u001b[0m \u001b[1;33m!=\u001b[0m \u001b[1;36m151501\u001b[0m\u001b[1;33m:\u001b[0m\u001b[1;33m\u001b[0m\u001b[0m\n\u001b[0;32m      5\u001b[0m     \u001b[0malgo\u001b[0m\u001b[1;33m.\u001b[0m\u001b[0mone\u001b[0m\u001b[1;33m(\u001b[0m\u001b[1;33m)\u001b[0m\u001b[1;33m\u001b[0m\u001b[0m\n\u001b[1;32m----> 6\u001b[1;33m     \u001b[0mtime\u001b[0m\u001b[1;33m.\u001b[0m\u001b[0msleep\u001b[0m\u001b[1;33m(\u001b[0m\u001b[1;36m5\u001b[0m\u001b[1;33m)\u001b[0m\u001b[1;33m\u001b[0m\u001b[0m\n\u001b[0m\u001b[0;32m      7\u001b[0m \u001b[0mapp\u001b[0m\u001b[1;33m.\u001b[0m\u001b[0mexec_\u001b[0m\u001b[1;33m(\u001b[0m\u001b[1;33m)\u001b[0m\u001b[1;33m\u001b[0m\u001b[0m\n",
      "\u001b[1;31mKeyboardInterrupt\u001b[0m: "
     ]
    }
   ],
   "source": [
    "app = QApplication(sys.argv)\n",
    "algo = Algos()\n",
    "print('-------------------------------거래시작------------------------------------')\n",
    "while now.strftime('%H%M%S') != 151501:\n",
    "    algo.one()\n",
    "    time.sleep(5)\n",
    "    break\n",
    "app.exec_() "
   ]
  },
  {
   "cell_type": "markdown",
   "metadata": {},
   "source": [
    "# -----------------------------------------------------------------------------------------------------------\n",
    "# -----------------------------------------------------------------------------------------------------------\n",
    "# -----------------------------------------------------------------------------------------------------------\n",
    "# -----------------------------------------------------------------------------------------------------------\n",
    "# -----------------------------------------------------------------------------------------------------------"
   ]
  }
 ],
 "metadata": {
  "kernelspec": {
   "display_name": "Python 3",
   "language": "python",
   "name": "python3"
  }
 },
 "nbformat": 4,
 "nbformat_minor": 2
}

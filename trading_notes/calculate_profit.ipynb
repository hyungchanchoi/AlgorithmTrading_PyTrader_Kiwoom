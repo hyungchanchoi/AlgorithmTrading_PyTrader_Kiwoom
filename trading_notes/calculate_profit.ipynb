{
 "metadata": {
  "language_info": {
   "codemirror_mode": {
    "name": "ipython",
    "version": 3
   },
   "file_extension": ".py",
   "mimetype": "text/x-python",
   "name": "python",
   "nbconvert_exporter": "python",
   "pygments_lexer": "ipython3",
   "version": "3.7.6-final"
  },
  "orig_nbformat": 2,
  "kernelspec": {
   "name": "python3",
   "display_name": "Python 3",
   "language": "python"
  }
 },
 "nbformat": 4,
 "nbformat_minor": 2,
 "cells": [
  {
   "cell_type": "code",
   "execution_count": 17,
   "metadata": {},
   "outputs": [
    {
     "output_type": "execute_result",
     "data": {
      "text/plain": [
       "969"
      ]
     },
     "metadata": {},
     "execution_count": 17
    }
   ],
   "source": [
    "f = open(\"210122_trading_note\", 'r',encoding='UTF8')\n",
    "lines = f.readlines()\n",
    "f.close()\n",
    "len(lines)"
   ]
  },
  {
   "cell_type": "code",
   "execution_count": 18,
   "metadata": {},
   "outputs": [],
   "source": [
    "tiger200 = []\n",
    "kodex200 = []\n",
    "\n",
    "for i in range(len(lines)-1):\n",
    "    if lines[i][:-1] == 'TIGER 200' and lines[i+1][:2] == '매수':\n",
    "        tiger200.append(-int(lines[i+1][2:-2])*int(lines[i+2][4:10].replace(',','')) )\n",
    "    if lines[i][:-1] == 'TIGER 200' and lines[i+1][:2] == '매도':\n",
    "        tiger200.append(int(lines[i+1][2:-2])*int(lines[i+2][4:10].replace(',','')) ) \n",
    "    if lines[i][:-1] == 'KODEX 200' and lines[i+1][:2] == '매수':\n",
    "        kodex200.append(-int(lines[i+1][2:-2])*int(lines[i+2][4:10].replace(',','')) )\n",
    "    if lines[i][:-1] == 'KODEX 200' and lines[i+1][:2] == '매도':\n",
    "        kodex200.append(int(lines[i+1][2:-2])*int(lines[i+2][4:10].replace(',','')) )"
   ]
  },
  {
   "cell_type": "code",
   "execution_count": 19,
   "metadata": {},
   "outputs": [
    {
     "output_type": "execute_result",
     "data": {
      "text/plain": [
       "-174740"
      ]
     },
     "metadata": {},
     "execution_count": 19
    }
   ],
   "source": [
    "total_profit = sum(tiger200) + sum(kodex200)\n",
    "total_profit"
   ]
  },
  {
   "cell_type": "code",
   "execution_count": 24,
   "metadata": {},
   "outputs": [
    {
     "output_type": "execute_result",
     "data": {
      "text/plain": [
       "693055"
      ]
     },
     "metadata": {},
     "execution_count": 24
    }
   ],
   "source": [
    "int(lines[487][2:-2])\n",
    "sum(kodex200)"
   ]
  },
  {
   "cell_type": "code",
   "execution_count": null,
   "metadata": {},
   "outputs": [],
   "source": []
  }
 ]
}
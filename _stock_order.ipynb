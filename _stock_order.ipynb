{
 "cells": [
  {
   "cell_type": "code",
   "execution_count": 1,
   "metadata": {},
   "outputs": [
    {
     "name": "stdout",
     "output_type": "stream",
     "text": [
      "1\n"
     ]
    }
   ],
   "source": [
    "# 대신증권 연결 확인\n",
    "import win32com.client\n",
    "\n",
    "instCpCybos = win32com.client.Dispatch(\"CpUtil.CpCybos\")\n",
    "print(instCpCybos.IsConnect)"
   ]
  },
  {
   "cell_type": "code",
   "execution_count": 3,
   "metadata": {},
   "outputs": [
    {
     "data": {
      "text/plain": [
       "0"
      ]
     },
     "execution_count": 3,
     "metadata": {},
     "output_type": "execute_result"
    }
   ],
   "source": [
    "import win32com.client\n",
    "\n",
    "instCpTdUtil = win32com.client.Dispatch(\"CpTrade.CpTdUtil\")\n",
    "instCpTd0311 = win32com.client.Dispatch(\"CpTrade.CpTd0311\")\n",
    "\n",
    "instCpTdUtil.TradeInit()"
   ]
  },
  {
   "cell_type": "markdown",
   "metadata": {},
   "source": [
    "# 총평가금액 / 총평가손익 / 잔고수량 / 현재가 받아오기"
   ]
  },
  {
   "cell_type": "code",
   "execution_count": 30,
   "metadata": {},
   "outputs": [
    {
     "data": {
      "text/plain": [
       "'012009'"
      ]
     },
     "execution_count": 30,
     "metadata": {},
     "output_type": "execute_result"
    }
   ],
   "source": [
    "import datetime\n",
    "import time\n",
    "now = datetime.datetime.now()\n",
    "time = now\n",
    "now = now.strftime('%H%M%S')\n",
    "now"
   ]
  },
  {
   "cell_type": "code",
   "execution_count": 31,
   "metadata": {
    "scrolled": true
   },
   "outputs": [
    {
     "name": "stdout",
     "output_type": "stream",
     "text": [
      "통신상태 0 12247 조회완료되었습니다.(cii.cif.astbln.selcnsbaseaccpt)\n",
      "통신상태 0 0027 조회가 완료되었습니다.(market.eye)\n",
      "[ 2020-12-22 01:20:09.985107 ]\n",
      "-------------------------------현재상태--------------------------------------\n",
      "총평가금액 : 475622 총평가손익 : -4048 kodex200 현재가/수량 : 37195 / 4\n",
      "-----------------------------------------------------------------------------\n",
      "\n"
     ]
    }
   ],
   "source": [
    "import sys\n",
    "import win32com.client\n",
    " \n",
    "# 설명: 주식 계좌잔고 종목(최대 200개)을 가져와 현재가  실시간 조회하는 샘플\n",
    "# CpEvent: 실시간 현재가 수신 클래스\n",
    "# CpStockCur : 현재가 실시간 통신 클래스\n",
    "# Cp6033 : 주식 잔고 조회\n",
    "# CpMarketEye: 복수 종목 조회 서비스 - 200 종목 현재가를 조회 함.\n",
    " \n",
    "# CpEvent: 실시간 이벤트 수신 클래스\n",
    "class CpEvent:\n",
    "    def set_params(self, client):\n",
    "        self.client = client\n",
    " \n",
    "    def OnReceived(self):\n",
    "        code = self.client.GetHeaderValue(0)  # 초\n",
    "        name = self.client.GetHeaderValue(1)  # 초\n",
    "        timess = self.client.GetHeaderValue(18)  # 초\n",
    "        exFlag = self.client.GetHeaderValue(19)  # 예상체결 플래그\n",
    "        cprice = self.client.GetHeaderValue(13)  # 현재가\n",
    "        diff = self.client.GetHeaderValue(2)  # 대비\n",
    "        cVol = self.client.GetHeaderValue(17)  # 순간체결수량\n",
    "        vol = self.client.GetHeaderValue(9)  # 거래량\n",
    " \n",
    "        if (exFlag == ord('1')):  # 동시호가 시간 (예상체결)\n",
    "            print(\"실시간(예상체결)\", name, timess, \"*\", cprice, \"대비\", diff, \"체결량\", cVol, \"거래량\", vol)\n",
    "        elif (exFlag == ord('2')):  # 장중(체결)\n",
    "            print(\"실시간(장중 체결)\", name, timess, cprice, \"대비\", diff, \"체결량\", cVol, \"거래량\", vol)\n",
    "\n",
    "# CpStockCur: 실시간 현재가 요청 클래스\n",
    "class CpStockCur:\n",
    "    def Subscribe(self, code):\n",
    "        self.objStockCur = win32com.client.Dispatch(\"DsCbo1.StockCur\")\n",
    "        handler = win32com.client.WithEvents(self.objStockCur, CpEvent)\n",
    "        self.objStockCur.SetInputValue(0, code)\n",
    "        handler.set_params(self.objStockCur)\n",
    "        self.objStockCur.Subscribe()\n",
    " \n",
    "    def Unsubscribe(self):\n",
    "        self.objStockCur.Unsubscribe()\n",
    " \n",
    " \n",
    "# Cp6033 : 주식 잔고 조회\n",
    "class Cp6033:\n",
    "    def __init__(self):\n",
    "        # 통신 OBJECT 기본 세팅\n",
    "        self.objTrade = win32com.client.Dispatch(\"CpTrade.CpTdUtil\")\n",
    "        initCheck = self.objTrade.TradeInit(0)\n",
    "        if (initCheck != 0):\n",
    "            print(\"주문 초기화 실패\")\n",
    "            return\n",
    " \n",
    "        # \n",
    "        acc = self.objTrade.AccountNumber[0]  # 계좌번호\n",
    "        accFlag = self.objTrade.GoodsList(acc, 1)  # 주식상품 구분\n",
    "#         print(acc, accFlag[0])\n",
    " \n",
    "        self.objRq = win32com.client.Dispatch(\"CpTrade.CpTd6033\")\n",
    "        self.objRq.SetInputValue(0, acc)  # 계좌번호\n",
    "        self.objRq.SetInputValue(1, accFlag[0])  # 상품구분 - 주식 상품 중 첫번째\n",
    "        self.objRq.SetInputValue(2, 50)  #  요청 건수(최대 50)\n",
    " \n",
    "    # 실제적인 6033 통신 처리\n",
    "    def rq6033(self, retcode):\n",
    "        self.objRq.BlockRequest()\n",
    " \n",
    "        # 통신 및 통신 에러 처리\n",
    "        rqStatus = self.objRq.GetDibStatus()\n",
    "        rqRet = self.objRq.GetDibMsg1()\n",
    "        print(\"통신상태\", rqStatus, rqRet)\n",
    "        if rqStatus != 0:\n",
    "            return False\n",
    " \n",
    "        cnt = self.objRq.GetHeaderValue(7)\n",
    "#         print(cnt)\n",
    " \n",
    "#         print(\"종목코드 종목명 신용구분 체결잔고수량 체결장부단가 평가금액 평가손익 손익단가\")\n",
    "        temp_amount = []\n",
    "        for i in range(cnt):\n",
    "            code = self.objRq.GetDataValue(12, i)  # 종목코드\n",
    "            name = self.objRq.GetDataValue(0, i)  # 종목명\n",
    "            retcode.append(code)\n",
    "            if len(retcode) >=  200:       # 최대 200 종목만,\n",
    "                break\n",
    "            cashFlag = self.objRq.GetDataValue(1, i)  # 신용구분\n",
    "            date = self.objRq.GetDataValue(2, i)  # 대출일\n",
    "            amount = self.objRq.GetDataValue(7, i) # 체결잔고수량\n",
    "            buyPrice = self.objRq.GetDataValue(17, i) # 체결장부단가\n",
    "            evalValue = self.objRq.GetDataValue(9, i) # 평가금액(천원미만은 절사 됨)\n",
    "            evalPerc = self.objRq.GetDataValue(10, i) # 평가손익\n",
    "            evalbep = self.objRq.GetDataValue(18, i)  # 손익단가\n",
    "#             print(code,'/',name,'/', cashFlag,'/', amount,'/', buyPrice,'/', evalValue,'/', evalPerc,'/',evalbep)\n",
    "            temp_amount.append(amount)\n",
    "#         print('총평가금액 : ', self.objRq.GetHeaderValue(11),'총평가손익 :',self.objRq.GetHeaderValue(4)) #잔고 총 평가금액\n",
    "        return  self.objRq.GetHeaderValue(11) ,self.objRq.GetHeaderValue(4), temp_amount\n",
    "        \n",
    "    def Request(self, retCode):\n",
    "        a,b,c = self.rq6033(retCode)\n",
    " \n",
    "        # 연속 데이터 조회 - 200 개까지만.\n",
    "        while self.objRq.Continue:\n",
    "            self.rq6033(retCode)\n",
    "#             print(len(retCode))\n",
    "            if len(retCode) >= 200:\n",
    "                break\n",
    "        # for debug\n",
    "        size = len(retCode)\n",
    "#         for i in range(size):\n",
    "#             print(retCode[i])\n",
    "        return a,b,c\n",
    " \n",
    " \n",
    "# CpMarketEye : 복수종목 현재가 통신 서비스\n",
    "class CpMarketEye:\n",
    "    def Request(self, codes, rqField):\n",
    "        # 연결 여부 체크\n",
    "        objCpCybos = win32com.client.Dispatch(\"CpUtil.CpCybos\")\n",
    "        bConnect = objCpCybos.IsConnect\n",
    "        if (bConnect == 0):\n",
    "            print(\"PLUS가 정상적으로 연결되지 않음. \")\n",
    "            return False\n",
    " \n",
    "        # 관심종목 객체 구하기\n",
    "        objRq = win32com.client.Dispatch(\"CpSysDib.MarketEye\")\n",
    "        # 요청 필드 세팅 - 종목코드, 종목명, 시간, 대비부호, 대비, 현재가, 거래량\n",
    "        # rqField = [0,17, 1,2,3,4,10]\n",
    "        objRq.SetInputValue(0, rqField) # 요청 필드\n",
    "        objRq.SetInputValue(1, codes)  # 종목코드 or 종목코드 리스트\n",
    "        objRq.BlockRequest()\n",
    " \n",
    " \n",
    "        # 현재가 통신 및 통신 에러 처리\n",
    "        rqStatus = objRq.GetDibStatus()\n",
    "        rqRet = objRq.GetDibMsg1()\n",
    "        print(\"통신상태\", rqStatus, rqRet)\n",
    "        if rqStatus != 0:\n",
    "            return False\n",
    " \n",
    "        cnt  = objRq.GetHeaderValue(2)\n",
    "         \n",
    "        price = []\n",
    "        for i in range(cnt):\n",
    "#             rpCode = objRq.GetDataValue(0, i)  # 코드\n",
    "#             rpName = objRq.GetDataValue(1, i)  # 종목명\n",
    "#             rpTime= objRq.GetDataValue(2, i)  # 시간\n",
    "#             rpDiffFlag = objRq.GetDataValue(3, i)  # 대비부호\n",
    "            rpDiff = objRq.GetDataValue(4, i)  # 대비\n",
    "#             rpCur = objRq.GetDataValue(5, i)  # 현재가\n",
    "#             rpVol = objRq.GetDataValue(6, i)  # 거래량\n",
    "#             print(rpCode, rpName, rpTime,  rpDiffFlag, rpDiff, rpCur, rpVol)\n",
    "            price.append(rpDiff)\n",
    "        return price\n",
    "\n",
    "# if __name__ == \"__main__\":\n",
    "def get_info():\n",
    "#     codes = []\n",
    "#     obj6033 = Cp6033()\n",
    "#     total_eval,total_profit,amount = obj6033.Request(codes) \n",
    "     \n",
    "#     print(\"잔고 종목 개수:\", len(codes))\n",
    "\n",
    "    # 요청 필드 배열 - 종목코드, 시간, 대비부호 대비, 현재가, 거래량, 종목명\n",
    "    rqField = [0,17, 1, 2, 3, 4, 10]  #요청 필드\n",
    "    objMarkeyeye = CpMarketEye()\n",
    "    price = objMarkeyeye.Request(codes, rqField) \n",
    "    \n",
    "#     return total_eval, total_profit, amount, price\n",
    "# #     exit()\n",
    "# total_eval, total_profit, amount, price = get_info()\n",
    "# print('[',time,']')\n",
    "# print('-------------------------------현재상태--------------------------------------')\n",
    "# print('총평가금액 :',total_eval,'총평가손익 :',total_profit,'kodex200 현재가/수량 :',price[0],'/',amount[0])\n",
    "# print('-----------------------------------------------------------------------------')\n",
    "# print('')\n",
    "\n",
    "\n",
    "\n",
    "\n",
    "def get_info():\n",
    "    codes = []\n",
    "    obj6033 = Cp6033()\n",
    "    total_eval,total_profit,amount = obj6033.Request(codes) \n",
    "     \n",
    "#     print(\"잔고 종목 개수:\", len(codes))\n",
    "\n",
    "    # 요청 필드 배열 - 종목코드, 시간, 대비부호 대비, 현재가, 거래량, 종목명\n",
    "    rqField = [0,17, 1, 2, 3, 4, 10]  #요청 필드\n",
    "    objMarkeyeye = CpMarketEye()\n",
    "    price = objMarkeyeye.Request(codes, rqField) \n",
    "    \n",
    "    return total_eval, total_profit, amount, price"
   ]
  }
 ],
 "metadata": {
  "kernelspec": {
   "display_name": "Python 3",
   "language": "python",
   "name": "python3"
  },
  "language_info": {
   "codemirror_mode": {
    "name": "ipython",
    "version": 3
   },
   "file_extension": ".py",
   "mimetype": "text/x-python",
   "name": "python",
   "nbconvert_exporter": "python",
   "pygments_lexer": "ipython3",
   "version": "3.6.5"
  }
 },
 "nbformat": 4,
 "nbformat_minor": 2
}

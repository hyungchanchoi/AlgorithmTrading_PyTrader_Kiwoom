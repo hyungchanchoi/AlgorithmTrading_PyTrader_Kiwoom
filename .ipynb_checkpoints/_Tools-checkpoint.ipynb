{
 "cells": [
  {
   "cell_type": "code",
   "execution_count": null,
   "metadata": {},
   "outputs": [],
   "source": [
    "def get_code(name): \n",
    "    import win32com.client\n",
    "\n",
    "    instCpCodeMgr = win32com.client.Dispatcsh(\"CpUtil.CpCodeMgr\")\n",
    "    codeList = instCpCodeMgr.GetStockListByMarket(1)\n",
    "\n",
    "    temp = {}\n",
    "    for code in codeList:\n",
    "        name = instCpCodeMgr.CodeToName(code)\n",
    "        temp[name] = code\n",
    "    \n",
    "    result = temp[name] \n",
    "    \n",
    "    return result\n",
    "\n",
    "def get_name(code): \n",
    "    import win32com.client\n",
    "\n",
    "    instCpCodeMgr = win32com.client.Dispatcsh(\"CpUtil.CpCodeMgr\")\n",
    "    codeList = instCpCodeMgr.GetStockListByMarket(1)\n",
    "\n",
    "    temp = {}\n",
    "    for code in codeList:\n",
    "        name = instCpCodeMgr.CodeToName(code)\n",
    "        temp[code] = name\n",
    "    \n",
    "    result = temp[code] \n",
    "    \n",
    "    return result\n",
    "\n",
    "def get_min(code,time,day):  # 종목, 기간, 오늘, 시점, 분, 시간간격\n",
    "    start = (datetime.today() - timedelta(day)).strftime(\"%Y%m%d\") \n",
    "    instStockChart = win32com.client.Dispatch(\"CpSysDib.StockChart\")\n",
    "    instStockChart.SetInputValue(0, code )\n",
    "    instStockChart.SetInputValue(1, ord('1'))\n",
    "    instStockChart.SetInputValue(2, today)\n",
    "    instStockChart.SetInputValue(3, start)\n",
    "    # instStockChart.SetInputValue(4, 1000)\n",
    "    instStockChart.SetInputValue(5, (0,1,5))\n",
    "    instStockChart.SetInputValue(6, ord(time))  # 'm' : 분, 'T' : 틱\n",
    "    instStockChart.SetInputValue(7, 1)      # 데이터 주기\n",
    "    instStockChart.SetInputValue(9, ord('1'))\n",
    "    instStockChart.SetInputValue(10, 3)\n",
    "\n",
    "    instStockChart.BlockRequest()\n",
    "\n",
    "    numData = instStockChart.GetHeaderValue(3)\n",
    "    numField = instStockChart.GetHeaderValue(1) \n",
    "\n",
    "    temp = {}\n",
    "    for i in range(numData):\n",
    "        temp[str(instStockChart.GetDataValue(0, i)) +'.'+ str(instStockChart.GetDataValue(1, i))] = [instStockChart.GetDataValue(2, i)]\n",
    "    temp = pd.DataFrame(temp).transpose()\n",
    "    temp.index.names = ['time']\n",
    "    return temp"
   ]
  }
 ],
 "metadata": {
  "kernelspec": {
   "display_name": "Python 3",
   "language": "python",
   "name": "python3"
  },
  "language_info": {
   "codemirror_mode": {
    "name": "ipython",
    "version": 3
   },
   "file_extension": ".py",
   "mimetype": "text/x-python",
   "name": "python",
   "nbconvert_exporter": "python",
   "pygments_lexer": "ipython3",
   "version": "3.6.5"
  }
 },
 "nbformat": 4,
 "nbformat_minor": 2
}
